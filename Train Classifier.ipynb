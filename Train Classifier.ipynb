{
 "cells": [
  {
   "cell_type": "code",
   "execution_count": 1,
   "metadata": {},
   "outputs": [],
   "source": [
    "import pandas as pd\n",
    "import numpy as np\n",
    "import matplotlib.pyplot as plt\n",
    "\n",
    "import nltk\n",
    "\n",
    "from sklearn.model_selection import train_test_split\n",
    "\n",
    "from sklearn.feature_extraction.text import TfidfVectorizer\n",
    "from sklearn.decomposition import TruncatedSVD\n",
    "\n",
    "from sklearn.ensemble import RandomForestClassifier\n",
    "from sklearn.model_selection import GridSearchCV\n",
    "\n",
    "from sklearn.metrics import precision_recall_fscore_support\n",
    "from sklearn.metrics import confusion_matrix\n",
    "\n",
    "from joblib import dump"
   ]
  },
  {
   "cell_type": "code",
   "execution_count": 2,
   "metadata": {},
   "outputs": [],
   "source": [
    "path = './'"
   ]
  },
  {
   "cell_type": "code",
   "execution_count": 3,
   "metadata": {},
   "outputs": [],
   "source": [
    "stop_words = nltk.corpus.stopwords.words('english')\n",
    "stemmer = nltk.stem.snowball.EnglishStemmer()\n",
    "\n",
    "class StemmedTfidfVectorizer(TfidfVectorizer):\n",
    "    def build_analyzer(self):\n",
    "        analyzer = super(TfidfVectorizer, self).build_analyzer()\n",
    "        return lambda doc: (stemmer.stem(w) for w in analyzer(doc))"
   ]
  },
  {
   "cell_type": "code",
   "execution_count": 4,
   "metadata": {},
   "outputs": [],
   "source": [
    "# import data\n",
    "data = pd.read_csv(path + 'data.csv')"
   ]
  },
  {
   "cell_type": "code",
   "execution_count": 5,
   "metadata": {},
   "outputs": [],
   "source": [
    "data = data.set_index('id')"
   ]
  },
  {
   "cell_type": "code",
   "execution_count": 6,
   "metadata": {},
   "outputs": [
    {
     "data": {
      "text/html": [
       "<div>\n",
       "<style scoped>\n",
       "    .dataframe tbody tr th:only-of-type {\n",
       "        vertical-align: middle;\n",
       "    }\n",
       "\n",
       "    .dataframe tbody tr th {\n",
       "        vertical-align: top;\n",
       "    }\n",
       "\n",
       "    .dataframe thead th {\n",
       "        text-align: right;\n",
       "    }\n",
       "</style>\n",
       "<table border=\"1\" class=\"dataframe\">\n",
       "  <thead>\n",
       "    <tr style=\"text-align: right;\">\n",
       "      <th></th>\n",
       "      <th>title</th>\n",
       "      <th>overview</th>\n",
       "      <th>genre</th>\n",
       "      <th>text</th>\n",
       "    </tr>\n",
       "    <tr>\n",
       "      <th>id</th>\n",
       "      <th></th>\n",
       "      <th></th>\n",
       "      <th></th>\n",
       "      <th></th>\n",
       "    </tr>\n",
       "  </thead>\n",
       "  <tbody>\n",
       "    <tr>\n",
       "      <th>862</th>\n",
       "      <td>Toy Story</td>\n",
       "      <td>Led by Woody, Andy's toys live happily in his ...</td>\n",
       "      <td>Family</td>\n",
       "      <td>Toy Story Led by Woody, Andy's toys live happi...</td>\n",
       "    </tr>\n",
       "    <tr>\n",
       "      <th>8844</th>\n",
       "      <td>Jumanji</td>\n",
       "      <td>When siblings Judy and Peter discover an encha...</td>\n",
       "      <td>Family</td>\n",
       "      <td>Jumanji When siblings Judy and Peter discover ...</td>\n",
       "    </tr>\n",
       "    <tr>\n",
       "      <th>15602</th>\n",
       "      <td>Grumpier Old Men</td>\n",
       "      <td>A family wedding reignites the ancient feud be...</td>\n",
       "      <td>Romance</td>\n",
       "      <td>Grumpier Old Men A family wedding reignites th...</td>\n",
       "    </tr>\n",
       "    <tr>\n",
       "      <th>31357</th>\n",
       "      <td>Waiting to Exhale</td>\n",
       "      <td>Cheated on, mistreated and stepped on, the wom...</td>\n",
       "      <td>Drama</td>\n",
       "      <td>Waiting to Exhale Cheated on, mistreated and s...</td>\n",
       "    </tr>\n",
       "    <tr>\n",
       "      <th>11862</th>\n",
       "      <td>Father of the Bride Part II</td>\n",
       "      <td>Just when George Banks has recovered from his ...</td>\n",
       "      <td>Comedy</td>\n",
       "      <td>Father of the Bride Part II Just when George B...</td>\n",
       "    </tr>\n",
       "  </tbody>\n",
       "</table>\n",
       "</div>"
      ],
      "text/plain": [
       "                             title  \\\n",
       "id                                   \n",
       "862                      Toy Story   \n",
       "8844                       Jumanji   \n",
       "15602             Grumpier Old Men   \n",
       "31357            Waiting to Exhale   \n",
       "11862  Father of the Bride Part II   \n",
       "\n",
       "                                                overview    genre  \\\n",
       "id                                                                  \n",
       "862    Led by Woody, Andy's toys live happily in his ...   Family   \n",
       "8844   When siblings Judy and Peter discover an encha...   Family   \n",
       "15602  A family wedding reignites the ancient feud be...  Romance   \n",
       "31357  Cheated on, mistreated and stepped on, the wom...    Drama   \n",
       "11862  Just when George Banks has recovered from his ...   Comedy   \n",
       "\n",
       "                                                    text  \n",
       "id                                                        \n",
       "862    Toy Story Led by Woody, Andy's toys live happi...  \n",
       "8844   Jumanji When siblings Judy and Peter discover ...  \n",
       "15602  Grumpier Old Men A family wedding reignites th...  \n",
       "31357  Waiting to Exhale Cheated on, mistreated and s...  \n",
       "11862  Father of the Bride Part II Just when George B...  "
      ]
     },
     "execution_count": 6,
     "metadata": {},
     "output_type": "execute_result"
    }
   ],
   "source": [
    "data.head()"
   ]
  },
  {
   "cell_type": "code",
   "execution_count": 9,
   "metadata": {},
   "outputs": [],
   "source": [
    "train, test = train_test_split(data, test_size=0.1, random_state=17)"
   ]
  },
  {
   "cell_type": "code",
   "execution_count": 10,
   "metadata": {},
   "outputs": [
    {
     "data": {
      "text/plain": [
       "((37595, 4), (4178, 4))"
      ]
     },
     "execution_count": 10,
     "metadata": {},
     "output_type": "execute_result"
    }
   ],
   "source": [
    "train.shape, test.shape"
   ]
  },
  {
   "cell_type": "code",
   "execution_count": 11,
   "metadata": {
    "scrolled": true
   },
   "outputs": [
    {
     "data": {
      "text/plain": [
       "Drama              13609\n",
       "Thriller            5617\n",
       "Comedy              3368\n",
       "Documentary         3157\n",
       "Crime               3005\n",
       "Romance             1699\n",
       "Family              1643\n",
       "Horror              1357\n",
       "Science Fiction     1101\n",
       "Adventure           1072\n",
       "Action               783\n",
       "Animation            459\n",
       "Fantasy              442\n",
       "Mystery              283\n",
       "Name: genre, dtype: int64"
      ]
     },
     "execution_count": 11,
     "metadata": {},
     "output_type": "execute_result"
    }
   ],
   "source": [
    "train['genre'].value_counts()"
   ]
  },
  {
   "cell_type": "code",
   "execution_count": 12,
   "metadata": {},
   "outputs": [
    {
     "data": {
      "text/plain": [
       "Drama              1545\n",
       "Thriller            617\n",
       "Documentary         378\n",
       "Comedy              361\n",
       "Crime               326\n",
       "Romance             191\n",
       "Family              182\n",
       "Horror              165\n",
       "Science Fiction     129\n",
       "Adventure           101\n",
       "Action               62\n",
       "Animation            45\n",
       "Fantasy              44\n",
       "Mystery              32\n",
       "Name: genre, dtype: int64"
      ]
     },
     "execution_count": 12,
     "metadata": {},
     "output_type": "execute_result"
    }
   ],
   "source": [
    "test['genre'].value_counts()"
   ]
  },
  {
   "cell_type": "markdown",
   "metadata": {},
   "source": [
    "## Rebalance classes"
   ]
  },
  {
   "cell_type": "markdown",
   "metadata": {},
   "source": [
    "Downsampling of the two most frequent classes (Comedy and Drama) in training set"
   ]
  },
  {
   "cell_type": "code",
   "execution_count": 13,
   "metadata": {},
   "outputs": [],
   "source": [
    "# keep all samples of other classes\n",
    "train_no_main = train[~train['genre'].isin(['Comedy', 'Drama'])]\n",
    "\n",
    "# sample half of comedy movies to rebalance\n",
    "N_comedy = train['genre'].value_counts().Comedy\n",
    "sample_comedy = train[train['genre'] == 'Comedy'].sample(N_comedy//2, random_state=29)\n",
    "\n",
    "# sample half of drama movies to rebalance\n",
    "N_drama = train['genre'].value_counts().Drama\n",
    "sample_drama = train[train['genre'] == 'Drama'].sample(N_drama//2, random_state=15)"
   ]
  },
  {
   "cell_type": "code",
   "execution_count": 14,
   "metadata": {},
   "outputs": [
    {
     "data": {
      "text/html": [
       "<div>\n",
       "<style scoped>\n",
       "    .dataframe tbody tr th:only-of-type {\n",
       "        vertical-align: middle;\n",
       "    }\n",
       "\n",
       "    .dataframe tbody tr th {\n",
       "        vertical-align: top;\n",
       "    }\n",
       "\n",
       "    .dataframe thead th {\n",
       "        text-align: right;\n",
       "    }\n",
       "</style>\n",
       "<table border=\"1\" class=\"dataframe\">\n",
       "  <thead>\n",
       "    <tr style=\"text-align: right;\">\n",
       "      <th></th>\n",
       "      <th>title</th>\n",
       "      <th>overview</th>\n",
       "      <th>genre</th>\n",
       "      <th>text</th>\n",
       "    </tr>\n",
       "    <tr>\n",
       "      <th>id</th>\n",
       "      <th></th>\n",
       "      <th></th>\n",
       "      <th></th>\n",
       "      <th></th>\n",
       "    </tr>\n",
       "  </thead>\n",
       "  <tbody>\n",
       "    <tr>\n",
       "      <th>71444</th>\n",
       "      <td>M.D. Geist</td>\n",
       "      <td>Geist (the main character) is MD-02, a Most Da...</td>\n",
       "      <td>Science Fiction</td>\n",
       "      <td>M.D. Geist Geist (the main character) is MD-02...</td>\n",
       "    </tr>\n",
       "    <tr>\n",
       "      <th>1917</th>\n",
       "      <td>Who Killed Bambi?</td>\n",
       "      <td>Isabelle, a beautiful nursing student, is star...</td>\n",
       "      <td>Thriller</td>\n",
       "      <td>Who Killed Bambi? Isabelle, a beautiful nursin...</td>\n",
       "    </tr>\n",
       "    <tr>\n",
       "      <th>46776</th>\n",
       "      <td>The Bliss of Mrs. Blossom</td>\n",
       "      <td>A housewife, bored with her bra-manufacturer h...</td>\n",
       "      <td>Romance</td>\n",
       "      <td>The Bliss of Mrs. Blossom A housewife, bored w...</td>\n",
       "    </tr>\n",
       "    <tr>\n",
       "      <th>211231</th>\n",
       "      <td>Jonny Quest Vs. The Cyber Insects</td>\n",
       "      <td>The evil Dr. Zin has genetically modified hous...</td>\n",
       "      <td>Adventure</td>\n",
       "      <td>Jonny Quest Vs. The Cyber Insects The evil Dr....</td>\n",
       "    </tr>\n",
       "    <tr>\n",
       "      <th>26983</th>\n",
       "      <td>Odds Against Tomorrow</td>\n",
       "      <td>An old-time crook plans a heist. When one of h...</td>\n",
       "      <td>Crime</td>\n",
       "      <td>Odds Against Tomorrow An old-time crook plans ...</td>\n",
       "    </tr>\n",
       "  </tbody>\n",
       "</table>\n",
       "</div>"
      ],
      "text/plain": [
       "                                    title  \\\n",
       "id                                          \n",
       "71444                          M.D. Geist   \n",
       "1917                    Who Killed Bambi?   \n",
       "46776           The Bliss of Mrs. Blossom   \n",
       "211231  Jonny Quest Vs. The Cyber Insects   \n",
       "26983               Odds Against Tomorrow   \n",
       "\n",
       "                                                 overview            genre  \\\n",
       "id                                                                           \n",
       "71444   Geist (the main character) is MD-02, a Most Da...  Science Fiction   \n",
       "1917    Isabelle, a beautiful nursing student, is star...         Thriller   \n",
       "46776   A housewife, bored with her bra-manufacturer h...          Romance   \n",
       "211231  The evil Dr. Zin has genetically modified hous...        Adventure   \n",
       "26983   An old-time crook plans a heist. When one of h...            Crime   \n",
       "\n",
       "                                                     text  \n",
       "id                                                         \n",
       "71444   M.D. Geist Geist (the main character) is MD-02...  \n",
       "1917    Who Killed Bambi? Isabelle, a beautiful nursin...  \n",
       "46776   The Bliss of Mrs. Blossom A housewife, bored w...  \n",
       "211231  Jonny Quest Vs. The Cyber Insects The evil Dr....  \n",
       "26983   Odds Against Tomorrow An old-time crook plans ...  "
      ]
     },
     "execution_count": 14,
     "metadata": {},
     "output_type": "execute_result"
    }
   ],
   "source": [
    "train_resample = pd.concat([train_no_main, sample_comedy, sample_drama])\n",
    "train_resample.head()"
   ]
  },
  {
   "cell_type": "code",
   "execution_count": 15,
   "metadata": {},
   "outputs": [
    {
     "data": {
      "text/plain": [
       "Drama              6804\n",
       "Thriller           5617\n",
       "Documentary        3157\n",
       "Crime              3005\n",
       "Romance            1699\n",
       "Comedy             1684\n",
       "Family             1643\n",
       "Horror             1357\n",
       "Science Fiction    1101\n",
       "Adventure          1072\n",
       "Action              783\n",
       "Animation           459\n",
       "Fantasy             442\n",
       "Mystery             283\n",
       "Name: genre, dtype: int64"
      ]
     },
     "execution_count": 15,
     "metadata": {},
     "output_type": "execute_result"
    }
   ],
   "source": [
    "train_resample['genre'].value_counts()"
   ]
  },
  {
   "cell_type": "code",
   "execution_count": 16,
   "metadata": {},
   "outputs": [],
   "source": [
    "y_train = train_resample['genre'].values"
   ]
  },
  {
   "cell_type": "code",
   "execution_count": 17,
   "metadata": {},
   "outputs": [],
   "source": [
    "tfidf = StemmedTfidfVectorizer(stop_words=stop_words)"
   ]
  },
  {
   "cell_type": "code",
   "execution_count": 18,
   "metadata": {},
   "outputs": [],
   "source": [
    "train_tfidf = tfidf.fit_transform(train_resample['text'])"
   ]
  },
  {
   "cell_type": "code",
   "execution_count": 19,
   "metadata": {},
   "outputs": [
    {
     "data": {
      "text/plain": [
       "(29106, 47400)"
      ]
     },
     "execution_count": 19,
     "metadata": {},
     "output_type": "execute_result"
    }
   ],
   "source": [
    "train_tfidf.shape"
   ]
  },
  {
   "cell_type": "markdown",
   "metadata": {},
   "source": [
    "### Features Reduction"
   ]
  },
  {
   "cell_type": "code",
   "execution_count": 50,
   "metadata": {},
   "outputs": [],
   "source": [
    "n = 3000\n",
    "svd = TruncatedSVD(n_components=n, random_state=11)\n",
    "svd.fit_transform(train_tfidf)\n",
    "var = np.cumsum(svd.explained_variance_ratio_*100)"
   ]
  },
  {
   "cell_type": "code",
   "execution_count": 51,
   "metadata": {},
   "outputs": [
    {
     "data": {
      "image/png": "[encoded data removed]",
      "text/plain": [
       "<Figure size 864x720 with 1 Axes>"
      ]
     },
     "metadata": {
      "needs_background": "light"
     },
     "output_type": "display_data"
    }
   ],
   "source": [
    "plt.figure(figsize=(12,10))\n",
    "plt.ylabel('% Variance Explained')\n",
    "plt.xlabel('# of Features')\n",
    "plt.title('PCA Analysis')\n",
    "plt.style.context('seaborn-whitegrid')\n",
    "\n",
    "plt.plot(var)\n",
    "plt.grid()"
   ]
  },
  {
   "cell_type": "code",
   "execution_count": 20,
   "metadata": {},
   "outputs": [
    {
     "name": "stdout",
     "output_type": "stream",
     "text": [
      "0.2927763535828874\n"
     ]
    }
   ],
   "source": [
    "svd = TruncatedSVD(n_components=600, random_state=11)\n",
    "X_train = svd.fit_transform(train_tfidf)\n",
    "print(sum(svd.explained_variance_ratio_))"
   ]
  },
  {
   "cell_type": "code",
   "execution_count": 21,
   "metadata": {
    "scrolled": true
   },
   "outputs": [
    {
     "data": {
      "text/plain": [
       "((29106, 600), (29106,))"
      ]
     },
     "execution_count": 21,
     "metadata": {},
     "output_type": "execute_result"
    }
   ],
   "source": [
    "X_train.shape, y_train.shape"
   ]
  },
  {
   "cell_type": "markdown",
   "metadata": {},
   "source": [
    "### Model Selection"
   ]
  },
  {
   "cell_type": "code",
   "execution_count": 32,
   "metadata": {},
   "outputs": [
    {
     "name": "stdout",
     "output_type": "stream",
     "text": [
      "Fitting 4 folds for each of 12 candidates, totalling 48 fits\n"
     ]
    },
    {
     "name": "stderr",
     "output_type": "stream",
     "text": [
      "[Parallel(n_jobs=-1)]: Using backend LokyBackend with 8 concurrent workers.\n",
      "[Parallel(n_jobs=-1)]: Done   2 tasks      | elapsed:   53.2s\n",
      "[Parallel(n_jobs=-1)]: Done   9 tasks      | elapsed:  1.8min\n",
      "[Parallel(n_jobs=-1)]: Done  16 tasks      | elapsed:  2.8min\n",
      "[Parallel(n_jobs=-1)]: Done  25 tasks      | elapsed:  4.6min\n",
      "[Parallel(n_jobs=-1)]: Done  38 out of  48 | elapsed:  6.5min remaining:  1.7min\n",
      "[Parallel(n_jobs=-1)]: Done  43 out of  48 | elapsed:  6.9min remaining:   47.9s\n",
      "[Parallel(n_jobs=-1)]: Done  48 out of  48 | elapsed:  7.6min remaining:    0.0s\n",
      "[Parallel(n_jobs=-1)]: Done  48 out of  48 | elapsed:  7.6min finished\n"
     ]
    },
    {
     "data": {
      "text/plain": [
       "GridSearchCV(cv=4, error_score='raise-deprecating',\n",
       "             estimator=RandomForestClassifier(bootstrap=True, class_weight=None,\n",
       "                                              criterion='gini', max_depth=None,\n",
       "                                              max_features='auto',\n",
       "                                              max_leaf_nodes=None,\n",
       "                                              min_impurity_decrease=0.0,\n",
       "                                              min_impurity_split=None,\n",
       "                                              min_samples_leaf=1,\n",
       "                                              min_samples_split=2,\n",
       "                                              min_weight_fraction_leaf=0.0,\n",
       "                                              n_estimators='warn', n_jobs=None,\n",
       "                                              oob_score=False,\n",
       "                                              random_state=None, verbose=0,\n",
       "                                              warm_start=False),\n",
       "             iid='warn', n_jobs=-1,\n",
       "             param_grid={'class_weight': ['balanced', None],\n",
       "                         'max_depth': [20, 35, 50], 'n_estimators': [50, 100]},\n",
       "             pre_dispatch='2*n_jobs', refit=True, return_train_score=False,\n",
       "             scoring=None, verbose=10)"
      ]
     },
     "execution_count": 32,
     "metadata": {},
     "output_type": "execute_result"
    }
   ],
   "source": [
    "# model selection: simple grid-search\n",
    "parameters = {'n_estimators': [50, 100],\n",
    "              'class_weight': ['balanced', None],\n",
    "              'max_depth': [20, 35, 50]\n",
    "             }\n",
    "gridsearch = GridSearchCV(RandomForestClassifier(), parameters, cv=4, n_jobs=-1, verbose=10)\n",
    "gridsearch.fit(X_train, y_train)"
   ]
  },
  {
   "cell_type": "code",
   "execution_count": 33,
   "metadata": {},
   "outputs": [
    {
     "data": {
      "text/plain": [
       "({'class_weight': 'balanced', 'max_depth': 20, 'n_estimators': 100},\n",
       " 0.32960070723441875)"
      ]
     },
     "execution_count": 33,
     "metadata": {},
     "output_type": "execute_result"
    }
   ],
   "source": [
    "gridsearch.best_params_, gridsearch.best_score_"
   ]
  },
  {
   "cell_type": "code",
   "execution_count": 34,
   "metadata": {
    "scrolled": false
   },
   "outputs": [
    {
     "data": {
      "image/png": "[encoded data removed]",
      "text/plain": [
       "<Figure size 864x576 with 1 Axes>"
      ]
     },
     "metadata": {
      "needs_background": "light"
     },
     "output_type": "display_data"
    }
   ],
   "source": [
    "mean_score = gridsearch.cv_results_['mean_test_score']\n",
    "std_score = gridsearch.cv_results_['std_test_score']\n",
    "\n",
    "plt.figure(figsize=(12, 8))\n",
    "plt.plot(mean_score, marker='.', label='mean test score')\n",
    "plt.fill_between(range(len(mean_score)), \n",
    "                 mean_score - std_score,\n",
    "                 mean_score + std_score,\n",
    "                 alpha=0.4)\n",
    "plt.title('Cross-Validation: Mean Test Score')\n",
    "plt.xlabel('model configurations')\n",
    "plt.ylabel('score')\n",
    "plt.legend()\n",
    "plt.grid()"
   ]
  },
  {
   "cell_type": "code",
   "execution_count": 22,
   "metadata": {},
   "outputs": [],
   "source": [
    "best_hyp_param = gridsearch.best_params_"
   ]
  },
  {
   "cell_type": "markdown",
   "metadata": {},
   "source": [
    "### Model train and test"
   ]
  },
  {
   "cell_type": "code",
   "execution_count": 23,
   "metadata": {},
   "outputs": [],
   "source": [
    "movieclf = RandomForestClassifier(**best_hyp_param, random_state=15)"
   ]
  },
  {
   "cell_type": "code",
   "execution_count": 24,
   "metadata": {},
   "outputs": [
    {
     "data": {
      "text/plain": [
       "RandomForestClassifier(bootstrap=True, class_weight='balanced',\n",
       "                       criterion='gini', max_depth=20, max_features='auto',\n",
       "                       max_leaf_nodes=None, min_impurity_decrease=0.0,\n",
       "                       min_impurity_split=None, min_samples_leaf=1,\n",
       "                       min_samples_split=2, min_weight_fraction_leaf=0.0,\n",
       "                       n_estimators=100, n_jobs=None, oob_score=False,\n",
       "                       random_state=15, verbose=0, warm_start=False)"
      ]
     },
     "execution_count": 24,
     "metadata": {},
     "output_type": "execute_result"
    }
   ],
   "source": [
    "movieclf.fit(X_train, y_train)"
   ]
  },
  {
   "cell_type": "code",
   "execution_count": 25,
   "metadata": {},
   "outputs": [],
   "source": [
    "# transform test data using tfidf and svd objects fitted with train data\n",
    "test_tfidf = tfidf.transform(test['text'])\n",
    "X_test = svd.transform(test_tfidf)"
   ]
  },
  {
   "cell_type": "code",
   "execution_count": 26,
   "metadata": {},
   "outputs": [],
   "source": [
    "y_test = test['genre'].values"
   ]
  },
  {
   "cell_type": "code",
   "execution_count": 27,
   "metadata": {},
   "outputs": [
    {
     "data": {
      "text/plain": [
       "((4178, 600), (4178,))"
      ]
     },
     "execution_count": 27,
     "metadata": {},
     "output_type": "execute_result"
    }
   ],
   "source": [
    "X_test.shape, y_test.shape"
   ]
  },
  {
   "cell_type": "code",
   "execution_count": 28,
   "metadata": {},
   "outputs": [
    {
     "data": {
      "text/plain": [
       "0.43274293920536144"
      ]
     },
     "execution_count": 28,
     "metadata": {},
     "output_type": "execute_result"
    }
   ],
   "source": [
    "movieclf.score(X_test, y_test)"
   ]
  },
  {
   "cell_type": "code",
   "execution_count": 29,
   "metadata": {},
   "outputs": [],
   "source": [
    "y_pred = movieclf.predict(X_test)"
   ]
  },
  {
   "cell_type": "code",
   "execution_count": 30,
   "metadata": {
    "scrolled": false
   },
   "outputs": [
    {
     "data": {
      "text/html": [
       "<div>\n",
       "<style scoped>\n",
       "    .dataframe tbody tr th:only-of-type {\n",
       "        vertical-align: middle;\n",
       "    }\n",
       "\n",
       "    .dataframe tbody tr th {\n",
       "        vertical-align: top;\n",
       "    }\n",
       "\n",
       "    .dataframe thead th {\n",
       "        text-align: right;\n",
       "    }\n",
       "</style>\n",
       "<table border=\"1\" class=\"dataframe\">\n",
       "  <thead>\n",
       "    <tr style=\"text-align: right;\">\n",
       "      <th></th>\n",
       "      <th>Action</th>\n",
       "      <th>Adventure</th>\n",
       "      <th>Animation</th>\n",
       "      <th>Comedy</th>\n",
       "      <th>Crime</th>\n",
       "      <th>Documentary</th>\n",
       "      <th>Drama</th>\n",
       "      <th>Family</th>\n",
       "      <th>Fantasy</th>\n",
       "      <th>Horror</th>\n",
       "      <th>Mystery</th>\n",
       "      <th>Romance</th>\n",
       "      <th>Science Fiction</th>\n",
       "      <th>Thriller</th>\n",
       "    </tr>\n",
       "  </thead>\n",
       "  <tbody>\n",
       "    <tr>\n",
       "      <th>Action</th>\n",
       "      <td>0</td>\n",
       "      <td>0</td>\n",
       "      <td>0</td>\n",
       "      <td>1</td>\n",
       "      <td>15</td>\n",
       "      <td>3</td>\n",
       "      <td>21</td>\n",
       "      <td>0</td>\n",
       "      <td>0</td>\n",
       "      <td>0</td>\n",
       "      <td>0</td>\n",
       "      <td>1</td>\n",
       "      <td>0</td>\n",
       "      <td>21</td>\n",
       "    </tr>\n",
       "    <tr>\n",
       "      <th>Adventure</th>\n",
       "      <td>0</td>\n",
       "      <td>2</td>\n",
       "      <td>0</td>\n",
       "      <td>1</td>\n",
       "      <td>2</td>\n",
       "      <td>10</td>\n",
       "      <td>36</td>\n",
       "      <td>3</td>\n",
       "      <td>0</td>\n",
       "      <td>0</td>\n",
       "      <td>0</td>\n",
       "      <td>1</td>\n",
       "      <td>9</td>\n",
       "      <td>37</td>\n",
       "    </tr>\n",
       "    <tr>\n",
       "      <th>Animation</th>\n",
       "      <td>0</td>\n",
       "      <td>0</td>\n",
       "      <td>1</td>\n",
       "      <td>2</td>\n",
       "      <td>1</td>\n",
       "      <td>4</td>\n",
       "      <td>22</td>\n",
       "      <td>1</td>\n",
       "      <td>0</td>\n",
       "      <td>0</td>\n",
       "      <td>0</td>\n",
       "      <td>0</td>\n",
       "      <td>1</td>\n",
       "      <td>13</td>\n",
       "    </tr>\n",
       "    <tr>\n",
       "      <th>Comedy</th>\n",
       "      <td>0</td>\n",
       "      <td>0</td>\n",
       "      <td>0</td>\n",
       "      <td>30</td>\n",
       "      <td>15</td>\n",
       "      <td>40</td>\n",
       "      <td>205</td>\n",
       "      <td>10</td>\n",
       "      <td>0</td>\n",
       "      <td>0</td>\n",
       "      <td>0</td>\n",
       "      <td>5</td>\n",
       "      <td>1</td>\n",
       "      <td>55</td>\n",
       "    </tr>\n",
       "    <tr>\n",
       "      <th>Crime</th>\n",
       "      <td>0</td>\n",
       "      <td>0</td>\n",
       "      <td>0</td>\n",
       "      <td>5</td>\n",
       "      <td>81</td>\n",
       "      <td>17</td>\n",
       "      <td>106</td>\n",
       "      <td>2</td>\n",
       "      <td>0</td>\n",
       "      <td>1</td>\n",
       "      <td>0</td>\n",
       "      <td>2</td>\n",
       "      <td>0</td>\n",
       "      <td>112</td>\n",
       "    </tr>\n",
       "    <tr>\n",
       "      <th>Documentary</th>\n",
       "      <td>0</td>\n",
       "      <td>0</td>\n",
       "      <td>1</td>\n",
       "      <td>5</td>\n",
       "      <td>6</td>\n",
       "      <td>266</td>\n",
       "      <td>73</td>\n",
       "      <td>0</td>\n",
       "      <td>0</td>\n",
       "      <td>0</td>\n",
       "      <td>0</td>\n",
       "      <td>1</td>\n",
       "      <td>1</td>\n",
       "      <td>25</td>\n",
       "    </tr>\n",
       "    <tr>\n",
       "      <th>Drama</th>\n",
       "      <td>0</td>\n",
       "      <td>4</td>\n",
       "      <td>0</td>\n",
       "      <td>17</td>\n",
       "      <td>43</td>\n",
       "      <td>149</td>\n",
       "      <td>1051</td>\n",
       "      <td>16</td>\n",
       "      <td>0</td>\n",
       "      <td>1</td>\n",
       "      <td>0</td>\n",
       "      <td>24</td>\n",
       "      <td>5</td>\n",
       "      <td>235</td>\n",
       "    </tr>\n",
       "    <tr>\n",
       "      <th>Family</th>\n",
       "      <td>0</td>\n",
       "      <td>1</td>\n",
       "      <td>0</td>\n",
       "      <td>7</td>\n",
       "      <td>7</td>\n",
       "      <td>13</td>\n",
       "      <td>92</td>\n",
       "      <td>28</td>\n",
       "      <td>0</td>\n",
       "      <td>1</td>\n",
       "      <td>0</td>\n",
       "      <td>1</td>\n",
       "      <td>1</td>\n",
       "      <td>31</td>\n",
       "    </tr>\n",
       "    <tr>\n",
       "      <th>Fantasy</th>\n",
       "      <td>0</td>\n",
       "      <td>1</td>\n",
       "      <td>0</td>\n",
       "      <td>1</td>\n",
       "      <td>0</td>\n",
       "      <td>5</td>\n",
       "      <td>12</td>\n",
       "      <td>1</td>\n",
       "      <td>0</td>\n",
       "      <td>0</td>\n",
       "      <td>0</td>\n",
       "      <td>0</td>\n",
       "      <td>1</td>\n",
       "      <td>23</td>\n",
       "    </tr>\n",
       "    <tr>\n",
       "      <th>Horror</th>\n",
       "      <td>0</td>\n",
       "      <td>1</td>\n",
       "      <td>0</td>\n",
       "      <td>2</td>\n",
       "      <td>3</td>\n",
       "      <td>6</td>\n",
       "      <td>47</td>\n",
       "      <td>0</td>\n",
       "      <td>0</td>\n",
       "      <td>8</td>\n",
       "      <td>0</td>\n",
       "      <td>0</td>\n",
       "      <td>2</td>\n",
       "      <td>96</td>\n",
       "    </tr>\n",
       "    <tr>\n",
       "      <th>Mystery</th>\n",
       "      <td>0</td>\n",
       "      <td>0</td>\n",
       "      <td>0</td>\n",
       "      <td>0</td>\n",
       "      <td>10</td>\n",
       "      <td>1</td>\n",
       "      <td>5</td>\n",
       "      <td>0</td>\n",
       "      <td>0</td>\n",
       "      <td>0</td>\n",
       "      <td>0</td>\n",
       "      <td>0</td>\n",
       "      <td>0</td>\n",
       "      <td>16</td>\n",
       "    </tr>\n",
       "    <tr>\n",
       "      <th>Romance</th>\n",
       "      <td>0</td>\n",
       "      <td>0</td>\n",
       "      <td>0</td>\n",
       "      <td>6</td>\n",
       "      <td>2</td>\n",
       "      <td>6</td>\n",
       "      <td>141</td>\n",
       "      <td>3</td>\n",
       "      <td>0</td>\n",
       "      <td>0</td>\n",
       "      <td>0</td>\n",
       "      <td>9</td>\n",
       "      <td>0</td>\n",
       "      <td>24</td>\n",
       "    </tr>\n",
       "    <tr>\n",
       "      <th>Science Fiction</th>\n",
       "      <td>0</td>\n",
       "      <td>1</td>\n",
       "      <td>0</td>\n",
       "      <td>1</td>\n",
       "      <td>5</td>\n",
       "      <td>4</td>\n",
       "      <td>40</td>\n",
       "      <td>0</td>\n",
       "      <td>0</td>\n",
       "      <td>0</td>\n",
       "      <td>0</td>\n",
       "      <td>1</td>\n",
       "      <td>25</td>\n",
       "      <td>52</td>\n",
       "    </tr>\n",
       "    <tr>\n",
       "      <th>Thriller</th>\n",
       "      <td>0</td>\n",
       "      <td>3</td>\n",
       "      <td>0</td>\n",
       "      <td>3</td>\n",
       "      <td>65</td>\n",
       "      <td>21</td>\n",
       "      <td>202</td>\n",
       "      <td>5</td>\n",
       "      <td>0</td>\n",
       "      <td>2</td>\n",
       "      <td>0</td>\n",
       "      <td>5</td>\n",
       "      <td>4</td>\n",
       "      <td>307</td>\n",
       "    </tr>\n",
       "  </tbody>\n",
       "</table>\n",
       "</div>"
      ],
      "text/plain": [
       "                 Action  Adventure  Animation  Comedy  Crime  Documentary  \\\n",
       "Action                0          0          0       1     15            3   \n",
       "Adventure             0          2          0       1      2           10   \n",
       "Animation             0          0          1       2      1            4   \n",
       "Comedy                0          0          0      30     15           40   \n",
       "Crime                 0          0          0       5     81           17   \n",
       "Documentary           0          0          1       5      6          266   \n",
       "Drama                 0          4          0      17     43          149   \n",
       "Family                0          1          0       7      7           13   \n",
       "Fantasy               0          1          0       1      0            5   \n",
       "Horror                0          1          0       2      3            6   \n",
       "Mystery               0          0          0       0     10            1   \n",
       "Romance               0          0          0       6      2            6   \n",
       "Science Fiction       0          1          0       1      5            4   \n",
       "Thriller              0          3          0       3     65           21   \n",
       "\n",
       "                 Drama  Family  Fantasy  Horror  Mystery  Romance  \\\n",
       "Action              21       0        0       0        0        1   \n",
       "Adventure           36       3        0       0        0        1   \n",
       "Animation           22       1        0       0        0        0   \n",
       "Comedy             205      10        0       0        0        5   \n",
       "Crime              106       2        0       1        0        2   \n",
       "Documentary         73       0        0       0        0        1   \n",
       "Drama             1051      16        0       1        0       24   \n",
       "Family              92      28        0       1        0        1   \n",
       "Fantasy             12       1        0       0        0        0   \n",
       "Horror              47       0        0       8        0        0   \n",
       "Mystery              5       0        0       0        0        0   \n",
       "Romance            141       3        0       0        0        9   \n",
       "Science Fiction     40       0        0       0        0        1   \n",
       "Thriller           202       5        0       2        0        5   \n",
       "\n",
       "                 Science Fiction  Thriller  \n",
       "Action                         0        21  \n",
       "Adventure                      9        37  \n",
       "Animation                      1        13  \n",
       "Comedy                         1        55  \n",
       "Crime                          0       112  \n",
       "Documentary                    1        25  \n",
       "Drama                          5       235  \n",
       "Family                         1        31  \n",
       "Fantasy                        1        23  \n",
       "Horror                         2        96  \n",
       "Mystery                        0        16  \n",
       "Romance                        0        24  \n",
       "Science Fiction               25        52  \n",
       "Thriller                       4       307  "
      ]
     },
     "execution_count": 30,
     "metadata": {},
     "output_type": "execute_result"
    }
   ],
   "source": [
    "# use confusion matrix to get an overall idea of performance\n",
    "pd.DataFrame(confusion_matrix(y_test, y_pred), \n",
    "             columns=movieclf.classes_, \n",
    "             index=movieclf.classes_\n",
    "            )"
   ]
  },
  {
   "cell_type": "code",
   "execution_count": 31,
   "metadata": {},
   "outputs": [
    {
     "name": "stderr",
     "output_type": "stream",
     "text": [
      "/opt/anaconda3/envs/truelayer/lib/python3.7/site-packages/sklearn/metrics/classification.py:1437: UndefinedMetricWarning: Precision and F-score are ill-defined and being set to 0.0 in labels with no predicted samples.\n",
      "  'precision', 'predicted', average, warn_for)\n"
     ]
    }
   ],
   "source": [
    "P, R, F1, _ = precision_recall_fscore_support(y_test, y_pred)"
   ]
  },
  {
   "cell_type": "code",
   "execution_count": 32,
   "metadata": {},
   "outputs": [
    {
     "data": {
      "text/html": [
       "<div>\n",
       "<style scoped>\n",
       "    .dataframe tbody tr th:only-of-type {\n",
       "        vertical-align: middle;\n",
       "    }\n",
       "\n",
       "    .dataframe tbody tr th {\n",
       "        vertical-align: top;\n",
       "    }\n",
       "\n",
       "    .dataframe thead th {\n",
       "        text-align: right;\n",
       "    }\n",
       "</style>\n",
       "<table border=\"1\" class=\"dataframe\">\n",
       "  <thead>\n",
       "    <tr style=\"text-align: right;\">\n",
       "      <th></th>\n",
       "      <th>Action</th>\n",
       "      <th>Adventure</th>\n",
       "      <th>Animation</th>\n",
       "      <th>Comedy</th>\n",
       "      <th>Crime</th>\n",
       "      <th>Documentary</th>\n",
       "      <th>Drama</th>\n",
       "      <th>Family</th>\n",
       "      <th>Fantasy</th>\n",
       "      <th>Horror</th>\n",
       "      <th>Mystery</th>\n",
       "      <th>Romance</th>\n",
       "      <th>Science Fiction</th>\n",
       "      <th>Thriller</th>\n",
       "    </tr>\n",
       "  </thead>\n",
       "  <tbody>\n",
       "    <tr>\n",
       "      <th>precision</th>\n",
       "      <td>0.0</td>\n",
       "      <td>0.153846</td>\n",
       "      <td>0.500000</td>\n",
       "      <td>0.370370</td>\n",
       "      <td>0.317647</td>\n",
       "      <td>0.488073</td>\n",
       "      <td>0.511934</td>\n",
       "      <td>0.405797</td>\n",
       "      <td>0.0</td>\n",
       "      <td>0.615385</td>\n",
       "      <td>0.0</td>\n",
       "      <td>0.180000</td>\n",
       "      <td>0.500000</td>\n",
       "      <td>0.293219</td>\n",
       "    </tr>\n",
       "    <tr>\n",
       "      <th>recall</th>\n",
       "      <td>0.0</td>\n",
       "      <td>0.019802</td>\n",
       "      <td>0.022222</td>\n",
       "      <td>0.083102</td>\n",
       "      <td>0.248466</td>\n",
       "      <td>0.703704</td>\n",
       "      <td>0.680259</td>\n",
       "      <td>0.153846</td>\n",
       "      <td>0.0</td>\n",
       "      <td>0.048485</td>\n",
       "      <td>0.0</td>\n",
       "      <td>0.047120</td>\n",
       "      <td>0.193798</td>\n",
       "      <td>0.497569</td>\n",
       "    </tr>\n",
       "    <tr>\n",
       "      <th>f1</th>\n",
       "      <td>0.0</td>\n",
       "      <td>0.035088</td>\n",
       "      <td>0.042553</td>\n",
       "      <td>0.135747</td>\n",
       "      <td>0.278830</td>\n",
       "      <td>0.576381</td>\n",
       "      <td>0.584213</td>\n",
       "      <td>0.223108</td>\n",
       "      <td>0.0</td>\n",
       "      <td>0.089888</td>\n",
       "      <td>0.0</td>\n",
       "      <td>0.074689</td>\n",
       "      <td>0.279330</td>\n",
       "      <td>0.368990</td>\n",
       "    </tr>\n",
       "  </tbody>\n",
       "</table>\n",
       "</div>"
      ],
      "text/plain": [
       "           Action  Adventure  Animation    Comedy     Crime  Documentary  \\\n",
       "precision     0.0   0.153846   0.500000  0.370370  0.317647     0.488073   \n",
       "recall        0.0   0.019802   0.022222  0.083102  0.248466     0.703704   \n",
       "f1            0.0   0.035088   0.042553  0.135747  0.278830     0.576381   \n",
       "\n",
       "              Drama    Family  Fantasy    Horror  Mystery   Romance  \\\n",
       "precision  0.511934  0.405797      0.0  0.615385      0.0  0.180000   \n",
       "recall     0.680259  0.153846      0.0  0.048485      0.0  0.047120   \n",
       "f1         0.584213  0.223108      0.0  0.089888      0.0  0.074689   \n",
       "\n",
       "           Science Fiction  Thriller  \n",
       "precision         0.500000  0.293219  \n",
       "recall            0.193798  0.497569  \n",
       "f1                0.279330  0.368990  "
      ]
     },
     "execution_count": 32,
     "metadata": {},
     "output_type": "execute_result"
    }
   ],
   "source": [
    "pd.DataFrame(data=[P, R, F1], columns=movieclf.classes_, index=['precision', 'recall', 'f1'])"
   ]
  },
  {
   "cell_type": "markdown",
   "metadata": {},
   "source": [
    "### Save classifier, tfidf and svd objects"
   ]
  },
  {
   "cell_type": "code",
   "execution_count": 43,
   "metadata": {},
   "outputs": [],
   "source": [
    "mpath = 'models/'\n",
    "dump(movieclf, mpath + 'movieclassifier.joblib')\n",
    "dump(tfidf, mpath + 'tfidf.joblib')\n",
    "dump(svd, mpath + 'svd.joblib');"
   ]
  },
  {
   "cell_type": "code",
   "execution_count": null,
   "metadata": {},
   "outputs": [],
   "source": []
  }
 ],
 "metadata": {
  "kernelspec": {
   "display_name": "Python 3",
   "language": "python",
   "name": "python3"
  },
  "language_info": {
   "codemirror_mode": {
    "name": "ipython",
    "version": 3
   },
   "file_extension": ".py",
   "mimetype": "text/x-python",
   "name": "python",
   "nbconvert_exporter": "python",
   "pygments_lexer": "ipython3",
   "version": "3.7.5"
  }
 },
 "nbformat": 4,
 "nbformat_minor": 2
}
